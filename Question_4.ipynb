{
 "cells": [
  {
   "cell_type": "code",
   "execution_count": 1,
   "id": "bc78e85c",
   "metadata": {},
   "outputs": [],
   "source": [
    "import numpy as np\n",
    "import pandas as pd\n",
    "import seaborn as sns\n"
   ]
  },
  {
   "cell_type": "markdown",
   "id": "6cbea214",
   "metadata": {},
   "source": [
    "# Question 4\n"
   ]
  },
  {
   "cell_type": "markdown",
   "id": "bf917c71",
   "metadata": {},
   "source": [
    "## Theoretical Derivation of $\\mathbb{E}(AX)$ and $\\mathrm{Cov}(AX)$\n",
    "\n",
    "Let $X$ be a random vector in $\\mathbb{R}^n$ with mean $\\mu_X = \\mathbb{E}[X]$ and covariance matrix $\\Sigma_X = \\mathrm{Cov}(X)$. Let $A$ be a $k \\times n$ matrix.\n",
    "\n",
    "**1. Expectation of a Linear Transformation:**\n",
    "\n",
    "$$\n",
    "\\mathbb{E}[AX] = A\\,\\mathbb{E}[X] = A\\mu_X\n",
    "$$\n",
    "\n",
    "This follows from the linearity of expectation.\n",
    "\n",
    "**2. Covariance of a Linear Transformation:**\n",
    "\n",
    "$$\n",
    "\\mathrm{Cov}(AX) = \\mathbb{E}\\big[(AX - \\mathbb{E}[AX])(AX - \\mathbb{E}[AX])^T\\big]\n",
    "$$\n",
    "\n",
    "Expanding the terms:\n",
    "\n",
    "$$\n",
    "= \\mathbb{E}\\big[A(X - \\mu_X)(X - \\mu_X)^T A^T\\big]\n",
    "$$\n",
    "\n",
    "Since $A$ is constant, it can be factored out:\n",
    "\n",
    "$$\n",
    "= A\\,\\mathbb{E}\\big[(X - \\mu_X)(X - \\mu_X)^T\\big]A^T\n",
    "$$\n",
    "\n",
    "But $\\mathbb{E}\\big[(X - \\mu_X)(X - \\mu_X)^T\\big] = \\Sigma_X$, so:\n",
    "\n",
    "$$\n",
    "\\mathrm{Cov}(AX) = A\\Sigma_X A^T\n",
    "$$\n",
    "\n",
    "Thus, the mean and covariance of the transformed vector $AX$ are given by:\n",
    "\n",
    "- $\\mathbb{E}[AX] = A\\mu_X$\n",
    "- $\\mathrm{Cov}(AX) = A\\Sigma_X A^T$"
   ]
  },
  {
   "cell_type": "code",
   "execution_count": 2,
   "id": "bb542c20",
   "metadata": {},
   "outputs": [
    {
     "name": "stdout",
     "output_type": "stream",
     "text": [
      "E[AX]: [1 9 3]\n",
      "Cov(AX):\n",
      " [[ 6  0  0]\n",
      " [ 0 18  0]\n",
      " [ 0  0 36]]\n"
     ]
    }
   ],
   "source": [
    "# Compute E[AX] and Cov(AX) using the formulas from the derivation\n",
    "\n",
    "\n",
    "\n",
    "#(3x4)\n",
    "A = np.array([[1, -1,0,0],\n",
    "              [1, 1,-2,0],\n",
    "              [1,1,1,3]])\n",
    "\n",
    "# Compute mean vector mu_X (4x1)\n",
    "mu_X = np.array([3,2,-2,0])\n",
    "\n",
    "# Compute covariance matrix Sigma_X\n",
    "Sigma_X = np.array([[3,0,0,0],\n",
    "                   [0,3,0,0],\n",
    "                   [0,0,3,0],\n",
    "                   [0,0,0,3]]\n",
    "                   )\n",
    "\n",
    "# Compute E[AX]\n",
    "E_AX = A @ mu_X\n",
    "print(\"E[AX]:\", E_AX)\n",
    "\n",
    "# Compute Cov(AX)\n",
    "Cov_AX = A @ Sigma_X @ A.T\n",
    "print(\"Cov(AX):\\n\", Cov_AX)"
   ]
  },
  {
   "cell_type": "markdown",
   "id": "af303c29",
   "metadata": {},
   "source": [
    "## The off-diagonals are all 0, indicating that all variables are uncorrelated since they have a covariance = 0.\n"
   ]
  },
  {
   "cell_type": "markdown",
   "id": "0529eede",
   "metadata": {},
   "source": [
    "## Insight questions\n"
   ]
  },
  {
   "cell_type": "markdown",
   "id": "7b716f4e",
   "metadata": {},
   "source": [
    "## Linear Combinations in Factor Analysis\n",
    "\n",
    "In factor analysis, linear combinations of the original variables are used to create new variables called factors. These factors are constructed to capture most of the variance in the data using fewer variables than the original set. This process reduces the dimensionality of the data, making it easier to analyze and interpret.\n",
    "\n",
    "By representing the data with a smaller number of factors, we achieve computational efficiency and simplify complex datasets. The main goal is to explain the observed correlations among variables with as few factors as possible, thus reducing redundancy and focusing on the underlying structure of the data.\n",
    "\n",
    "Additionally, factor analysis helps to isolate the most important information in the dataset by identifying the key underlying factors that drive the observed patterns. This allows analysts to focus on the most significant sources of variation and ignore less relevant details."
   ]
  }
 ],
 "metadata": {
  "kernelspec": {
   "display_name": "Python 3",
   "language": "python",
   "name": "python3"
  },
  "language_info": {
   "codemirror_mode": {
    "name": "ipython",
    "version": 3
   },
   "file_extension": ".py",
   "mimetype": "text/x-python",
   "name": "python",
   "nbconvert_exporter": "python",
   "pygments_lexer": "ipython3",
   "version": "3.11.4"
  }
 },
 "nbformat": 4,
 "nbformat_minor": 5
}
