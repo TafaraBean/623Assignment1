{
 "cells": [
  {
   "cell_type": "code",
   "execution_count": 16,
   "id": "89fc137e",
   "metadata": {},
   "outputs": [],
   "source": [
    "#pip install scikit-learn"
   ]
  },
  {
   "cell_type": "code",
   "execution_count": 17,
   "id": "bc78e85c",
   "metadata": {},
   "outputs": [],
   "source": [
    "import numpy as np\n",
    "import pandas as pd\n",
    "import seaborn as sns\n",
    "from sklearn.decomposition import PCA\n",
    "\n"
   ]
  },
  {
   "cell_type": "markdown",
   "id": "ac67694b",
   "metadata": {},
   "source": [
    "# Question 1"
   ]
  },
  {
   "cell_type": "code",
   "execution_count": 18,
   "id": "6d3d75c7",
   "metadata": {},
   "outputs": [
    {
     "name": "stdout",
     "output_type": "stream",
     "text": [
      "    Wind  Solar Rad  CO  NO  NO2  O3  HC\n",
      "0      8         98   7   2   12   8   2\n",
      "1      7        107   4   3    9   5   3\n",
      "2      7        103   4   3    5   6   3\n",
      "3     10         88   5   2    8  15   4\n",
      "4      6         91   4   2    8  10   3\n",
      "5      8         90   5   2   12  12   4\n",
      "6      9         84   7   4   12  15   5\n",
      "7      5         72   6   4   21  14   4\n",
      "8      7         82   5   1   11  11   3\n",
      "9      8         64   5   2   13   9   4\n",
      "10     6         71   5   4   10   3   3\n",
      "11     6         91   4   2   12   7   3\n",
      "12     7         72   7   4   18  10   3\n",
      "13    10         70   4   2   11   7   3\n",
      "14    10         72   4   1    8  10   3\n",
      "15     9         77   4   1    9  10   3\n",
      "16     8         76   4   1    7   7   3\n",
      "17     8         71   5   3   16   4   4\n",
      "18     9         67   4   2   13   2   3\n",
      "19     9         69   3   3    9   5   3\n",
      "20    10         62   5   3   14   4   4\n",
      "21     9         88   4   2    7   6   3\n",
      "22     8         80   4   2   13  11   4\n",
      "23     5         30   3   3    5   2   3\n",
      "24     6         83   5   1   10  23   4\n",
      "25     8         84   3   2    7   6   3\n",
      "26     6         78   4   2   11  11   3\n",
      "27     8         79   2   1    7  10   3\n",
      "28     6         62   4   3    9   8   3\n",
      "29    10         37   3   1    7   2   3\n",
      "30     8         71   4   1   10   7   3\n",
      "31     7         52   4   1   12   8   4\n",
      "32     5         48   6   5    8   4   3\n",
      "33     6         75   4   1   10  24   3\n",
      "34    10         35   4   1    6   9   2\n",
      "35     8         85   4   1    9  10   2\n",
      "36     5         86   3   1    6  12   2\n",
      "37     5         86   7   2   13  18   2\n",
      "38     7         79   7   4    9  25   3\n",
      "39     7         79   5   2    8   6   2\n",
      "40     6         68   6   2   11  14   3\n",
      "41     8         40   4   3    6   5   2\n"
     ]
    }
   ],
   "source": [
    "airpol_df = pd.read_csv('airpol.csv')\n",
    "print(airpol_df)"
   ]
  },
  {
   "cell_type": "code",
   "execution_count": 19,
   "id": "08c92de9",
   "metadata": {},
   "outputs": [
    {
     "name": "stdout",
     "output_type": "stream",
     "text": [
      "Continuous variables: ['Solar Rad', 'NO2', 'O3']\n",
      "Non-continuous variables: ['Wind', 'CO', 'NO', 'HC']\n"
     ]
    }
   ],
   "source": [
    "# Determine continuous vs. non-continuous variables\n",
    "# Select numeric columns\n",
    "numeric_cols = airpol_df.select_dtypes(include=[np.number]).columns.tolist()\n",
    "\n",
    "# Define a threshold for “continuous” (e.g. more than 10 distinct values)\n",
    "threshold = 10\n",
    "continuous_vars = [col for col in numeric_cols \n",
    "                   if airpol_df[col].nunique() > threshold]\n",
    "\n",
    "# Everything else is treated as non-continuous\n",
    "non_continuous_vars = [col for col in airpol_df.columns \n",
    "                       if col not in continuous_vars]\n",
    "\n",
    "print(\"Continuous variables:\", continuous_vars)\n",
    "print(\"Non-continuous variables:\", non_continuous_vars)"
   ]
  },
  {
   "cell_type": "markdown",
   "id": "cba32b4b",
   "metadata": {},
   "source": [
    "(Used AI to generate the markdown formula below)"
   ]
  },
  {
   "cell_type": "markdown",
   "id": "ab19e550",
   "metadata": {},
   "source": [
    "### Covariance and variance formula "
   ]
  },
  {
   "cell_type": "markdown",
   "id": "5898bf87",
   "metadata": {
    "vscode": {
     "languageId": "tex"
    }
   },
   "source": [
    "# Sample Covariance and Variance Formulas\n",
    "\n",
    "**Sample Covariance between X and Y:**\n",
    "\n",
    "$$\n",
    "\\text{Cov}(X,Y) = \\frac{\\sum_{i=1}^{n} (x_i - \\bar{x})(y_i - \\bar{y})}{n-1}\n",
    "$$\n",
    "\n",
    "**Sample Variance of X:**\n",
    "\n",
    "$$\n",
    "\\text{Var}(X) = \\frac{\\sum_{i=1}^{n} (x_i - \\bar{x})^2}{n-1}\n",
    "$$"
   ]
  },
  {
   "cell_type": "code",
   "execution_count": 20,
   "id": "db686df6",
   "metadata": {},
   "outputs": [
    {
     "name": "stdout",
     "output_type": "stream",
     "text": [
      "Covariance: 6.763066202090593\n",
      "variance for NO2: 11.363530778164925\n",
      "variance for solar rad: 300.51567944250877\n",
      "Covariance-Variance Matrix:\n",
      "[[ 11.36353078   6.7630662 ]\n",
      " [  6.7630662  300.51567944]]\n",
      "Correlation: 0.11573199090089906\n",
      "Correlation Matrix:\n",
      "[[1.         0.11573199]\n",
      " [0.11573199 1.        ]]\n"
     ]
    }
   ],
   "source": [
    "# extract the two variables: NO2 and Solar Rad\n",
    "no2 = airpol_df['NO2']\n",
    "solar_rad = airpol_df['Solar Rad']\n",
    "\n",
    "# calculate the means\n",
    "mean_no2 = no2.mean()\n",
    "mean_solar = solar_rad.mean()\n",
    "\n",
    "# compute the covariance numerator by summing over the product of deviations\n",
    "numerator = ((no2 - mean_no2) * (solar_rad - mean_solar)).sum()\n",
    "\n",
    "# for sample covariance, divide by (n - 1)\n",
    "n = len(no2)\n",
    "covariance = numerator / (n - 1)\n",
    "\n",
    "print(\"Covariance:\", covariance)\n",
    "\n",
    "# Compute sample variances using first principles\n",
    "var_no2 = ((no2 - mean_no2) ** 2).sum() / (n - 1)\n",
    "var_solar = ((solar_rad - mean_solar) ** 2).sum() / (n - 1)\n",
    "\n",
    "print(\"variance for NO2:\", var_no2)\n",
    "print(\"variance for solar rad:\", var_solar)\n",
    "\n",
    "cov_var_matrix = np.array([[var_no2, covariance],\n",
    "                           [covariance, var_solar]])\n",
    "print(\"Covariance-Variance Matrix:\")\n",
    "print(cov_var_matrix)\n",
    "\n",
    "# now get the correlation between the 2 variables using first principles\n",
    "std_no2 = np.sqrt(var_no2)  # standard deviation of NO2\n",
    "std_solar = np.sqrt(var_solar)  # standard deviation of solar rad\n",
    "correlation = covariance / (std_no2 * std_solar)\n",
    "print(\"Correlation:\", correlation)\n",
    "\n",
    "# compute the correlation matrix \n",
    "correlation_matrix = np.array([[1, correlation],\n",
    "                               [correlation, 1]])\n",
    "print(\"Correlation Matrix:\")\n",
    "print(correlation_matrix)\n"
   ]
  },
  {
   "cell_type": "code",
   "execution_count": 21,
   "id": "295bdafa",
   "metadata": {},
   "outputs": [],
   "source": [
    "#pip install matplotlib"
   ]
  },
  {
   "cell_type": "markdown",
   "id": "51c9e205",
   "metadata": {},
   "source": [
    "## I am led to believe that in this question we are more interested in the relationship between the variables and we are expressing this relationship in terms of vectors, hence we will employ the use of the correlation.\n",
    "\n",
    "We start by centering the variables:\n",
    "\n",
    "$$\n",
    "x = \\text{NO2} - \\text{mean\\_NO2} \\quad \\text{and} \\quad y = \\text{solar\\_rad} - \\text{mean\\_solar}\n",
    "$$\n",
    "\n",
    "The dot product of the centered variables gives the covariance (up to the normalization factor):\n",
    "\n",
    "$$\n",
    "\\text{covariance} = \\frac{x^T y}{n-1}\n",
    "$$\n",
    "\n",
    "Thus, the correlation can be written as:\n",
    "\n",
    "$$\n",
    "\\text{correlation} = \\frac{x^T y}{(n-1)\\,\\text{std\\_NO2}\\,\\text{std\\_solar}}\n",
    "$$\n",
    "\n",
    "Alternatively, if we form the matrix \\( A \\) with the centered variables as columns,\n",
    "\n",
    "$$\n",
    "A = \\begin{bmatrix} x & y \\end{bmatrix},\n",
    "$$\n",
    "\n",
    "then the covariance matrix is\n",
    "\n",
    "$$\n",
    "\\text{Cov} = \\frac{A^T A}{n-1},\n",
    "$$\n",
    "\n",
    "and the off-diagonal element of \\(\\text{Cov}\\) is exactly \\(\\frac{x^T y}{n-1}\\). Therefore, the correlation is\n",
    "\n",
    "$$\n",
    "\\text{correlation} = \\frac{\\text{Cov}[0,1]}{\\text{std\\_NO2}\\,\\text{std\\_solar}}.\n",
    "$$\n",
    "\n",
    "## Using Correlation to Find the Angle Between Vectors\n",
    "\n",
    "In our analysis, remember that the correlation between the centered variables (NO2 and solar radiation) is defined as the cosine of the angle between their corresponding vectors:\n",
    "\n",
    "$$\n",
    "\\cos(\\theta) = \\text{correlation}\n",
    "$$\n",
    "\n",
    "This means if we know the correlation value, we can recover the angle between the two vectors by computing the arccosine. For example, in Python using NumPy, you can compute the angle (in radians) as:\n",
    "\n",
    "$$\n",
    "\\theta = \\arccos(\\text{correlation})\n",
    "$$\n",
    "\n",
    "To convert this angle to degrees, use:\n",
    "\n",
    "$$\n",
    "\\theta_{degrees} = \\theta \\times \\frac{180}{\\pi}\n",
    "$$\n",
    "\n",
    "Thus, the correlation not only tells us about the strength of the linear relationship but also directly informs us of the geometric angle between the centered variable vectors."
   ]
  },
  {
   "cell_type": "markdown",
   "id": "8e285074",
   "metadata": {},
   "source": [
    "(explanation from AI on why we use the notation of Cov(0,1))\n",
    "\n",
    "\n",
    "The notation **[0,1]** in the covariance matrix is used to refer to the position of the element representing the covariance between the two variables. In a 2x2 covariance matrix, the indices are zero-based, meaning:\n",
    "\n",
    "- **0** represents the first variable (e.g., wind).\n",
    "- **1** represents the second variable (e.g., solar radiation).\n",
    "\n",
    "Thus, **Cov[0,1]** is the element in the first row and second column of the matrix, which holds the covariance between these two variables. This convention is common in programming and mathematical notation when dealing with arrays or matrices."
   ]
  },
  {
   "cell_type": "code",
   "execution_count": 22,
   "id": "30925741",
   "metadata": {},
   "outputs": [
    {
     "data": {
      "image/png": "[encoded data removed]",
      "text/plain": [
       "<Figure size 600x600 with 1 Axes>"
      ]
     },
     "metadata": {},
     "output_type": "display_data"
    },
    {
     "name": "stdout",
     "output_type": "stream",
     "text": [
      "Correlation: 0.11573199090089906\n",
      "Angle (radians): 1.454804415891728\n",
      "Angle (degrees): 83.35415304759096\n"
     ]
    }
   ],
   "source": [
    "# Plotting an arbitrary vector and its rotated counterpart using correlation-derived angle\n",
    "import numpy as np\n",
    "import matplotlib.pyplot as plt\n",
    "\n",
    "# Use existing correlation if defined; otherwise, use an arbitrary value\n",
    "\n",
    "corr = correlation\n",
    "\n",
    "\n",
    "# Calculate angle (in radians) from the correlation (assuming correlation = cos(theta))\n",
    "theta = np.arccos(corr)\n",
    "theta_deg = np.degrees(theta)\n",
    "\n",
    "# Define the arbitrary vector (0,1)\n",
    "vec1 = np.array([0, 1])\n",
    "\n",
    "# Compute the rotated vector by applying a rotation matrix to vec1\n",
    "rotation_matrix = np.array([[np.cos(theta), -np.sin(theta)],\n",
    "                              [np.sin(theta),  np.cos(theta)]])\n",
    "vec2 = rotation_matrix.dot(vec1)\n",
    "\n",
    "# Plot the vectors starting from the origin\n",
    "plt.figure(figsize=(6,6))\n",
    "plt.quiver(0, 0, vec1[0], vec1[1], angles='xy', scale_units='xy', scale=1, color='blue', label='Vector (0,1)')\n",
    "plt.quiver(0, 0, vec2[0], vec2[1], angles='xy', scale_units='xy', scale=1, color='red', label='Rotated Vector')\n",
    "plt.xlim(-1.5, 1.5)\n",
    "plt.ylim(-1.5, 1.5)\n",
    "plt.axhline(0, color='grey', lw=0.5)\n",
    "plt.axvline(0, color='grey', lw=0.5)\n",
    "plt.legend()\n",
    "plt.title(f'Angle between vectors: {theta_deg:.2f}°')\n",
    "plt.grid(True)\n",
    "plt.show()\n",
    "\n",
    "print('Correlation:', corr)\n",
    "print('Angle (radians):', theta)\n",
    "print('Angle (degrees):', theta_deg)"
   ]
  },
  {
   "cell_type": "markdown",
   "id": "c9edf4c2",
   "metadata": {},
   "source": []
  },
  {
   "cell_type": "markdown",
   "id": "182cfa18",
   "metadata": {},
   "source": [
    "## Insight Questions\n",
    "\n",
    "When analyzing data, centering the variables (i.e., subtracting the mean) lets us focus on the essential relationship between them. Consider two centered variables, \\( x \\) and \\( y \\). Their covariance is given by\n",
    "\n",
    "$$\n",
    "\\text{Cov}(x, y) = \\frac{1}{n-1} \\sum_{i=1}^{n} x_i\\,y_i = \\frac{x^T y}{n-1}.\n",
    "$$\n",
    "\n",
    "We can summarize the variances and covariance in matrix form as follows:\n",
    "\n",
    "$$\n",
    "\\mathbf{Cov} =\n",
    "\\begin{bmatrix}\n",
    "\\text{Var}(x) & \\text{Cov}(x, y) \\\\\\\\\n",
    "\\text{Cov}(x, y) & \\text{Var}(y)\n",
    "\\end{bmatrix},\n",
    "$$\n",
    "\n",
    "where the variances are defined by\n",
    "\n",
    "$$\n",
    "\\text{Var}(x) = \\frac{\\sum_{i=1}^{n} x_i^2}{n-1} \\quad \\text{and} \\quad \\text{Var}(y) = \\frac{\\sum_{i=1}^{n} y_i^2}{n-1}.\n",
    "$$\n",
    "\n",
    "The correlation between \\( x \\) and \\( y \\) is obtained by normalizing the covariance with the corresponding standard deviations:\n",
    "\n",
    "$$\n",
    "\\text{Correlation} = \\frac{\\text{Cov}(x, y)}{\\sigma_x\\, \\sigma_y},\n",
    "$$\n",
    "\n",
    "which is equivalent to expressing the correlation as the cosine of the angle between the vectors:\n",
    "\n",
    "$$\n",
    "\\cos(\\theta) = \\frac{\\text{Cov}(x, y)}{\\sigma_x\\, \\sigma_y}.\n",
    "$$\n",
    "\n",
    "Thus, if the covariance is zero\n",
    "\n",
    "$$\n",
    "\\text{Cov}(x, y) = 0,\n",
    "$$\n",
    "\n",
    "then\n",
    "\n",
    "$$\n",
    "\\text{Correlation} = 0 \\quad \\text{and} \\quad \\cos(\\theta) = 0,\n",
    "$$\n",
    "\n",
    "indicating that the centered variables (or vectors) are orthogonal. Orthogonality in this context implies that there is no linear relationship between the variables, often taken as a sign of independence."
   ]
  },
  {
   "cell_type": "markdown",
   "id": "496965ac",
   "metadata": {},
   "source": [
    "# Question 2"
   ]
  },
  {
   "cell_type": "code",
   "execution_count": 23,
   "id": "fdf25ef8",
   "metadata": {},
   "outputs": [
    {
     "name": "stdout",
     "output_type": "stream",
     "text": [
      "Sample covariance matrix Σ:\n",
      "            Solar Rad        NO2         O3\n",
      "Solar Rad  300.515679   6.763066  30.790941\n",
      "NO2          6.763066  11.363531   3.126597\n",
      "O3          30.790941   3.126597  30.978513\n"
     ]
    }
   ],
   "source": [
    "# 1. Subset only the continuous variables\n",
    "cont_df = airpol_df[continuous_vars]\n",
    "\n",
    "# 2. Convert to NumPy array and get sample size\n",
    "X = cont_df.to_numpy()\n",
    "n = X.shape[0]\n",
    "\n",
    "# 3. Center each column (variable) by subtracting its mean\n",
    "means = X.mean(axis=0)\n",
    "Xc = X - means\n",
    "\n",
    "# 4. Manually compute the p×p covariance matrix Σ\n",
    "p = Xc.shape[1]\n",
    "Sigma = np.zeros((p, p))\n",
    "for i in range(p):\n",
    "    for j in range(p):\n",
    "        # dot product of centered columns i and j, divided by (n−1)\n",
    "        Sigma[i, j] = (Xc[:, i] * Xc[:, j]).sum() / (n - 1)\n",
    "\n",
    "# 5. Display with variable names\n",
    "Sigma_df = pd.DataFrame(Sigma, index=continuous_vars, columns=continuous_vars)\n",
    "print(\"Sample covariance matrix Σ:\")\n",
    "print(Sigma_df)"
   ]
  },
  {
   "cell_type": "code",
   "execution_count": 24,
   "id": "7d1a3e82",
   "metadata": {},
   "outputs": [
    {
     "name": "stdout",
     "output_type": "stream",
     "text": [
      "Is Sigma symmetric? True\n",
      "\n",
      "Eigenvalues: [304.1591513   27.83710269  10.86146959]\n",
      "Is Sigma positive definite? True\n",
      "Minimum eigenvalue: 10.861469588968426\n"
     ]
    }
   ],
   "source": [
    "# Check symmetry and compute eigenvalues from first principles\n",
    "def check_matrix_properties(A):\n",
    "    n = len(A)\n",
    "    \n",
    "    # Check symmetry\n",
    "    is_symmetric = True\n",
    "    for i in range(n):\n",
    "        for j in range(n):\n",
    "            if abs(A[i,j] - A[j,i]) > 1e-10:\n",
    "                is_symmetric = False\n",
    "                break\n",
    "    \n",
    "    # Power iteration method to find eigenvalues\n",
    "    def power_iteration(A, num_iterations=1000, tolerance=1e-10):\n",
    "        n = len(A)\n",
    "        v = np.random.rand(n)\n",
    "        v = v / np.linalg.norm(v)\n",
    "        \n",
    "        for _ in range(num_iterations):\n",
    "            Av = A @ v\n",
    "            v_new = Av / np.linalg.norm(Av)\n",
    "            \n",
    "            # Check convergence\n",
    "            if np.allclose(abs(v), abs(v_new), rtol=tolerance):\n",
    "                break\n",
    "                \n",
    "            v = v_new\n",
    "            \n",
    "        eigenvalue = (v @ (A @ v)) / (v @ v)\n",
    "        return eigenvalue, v\n",
    "    \n",
    "    # Find all eigenvalues using deflation\n",
    "    eigenvalues = []\n",
    "    A_remaining = A.copy()\n",
    "    \n",
    "    for i in range(n):\n",
    "        eigenvalue, eigenvector = power_iteration(A_remaining)\n",
    "        eigenvalues.append(eigenvalue)\n",
    "        \n",
    "        # Deflate the matrix\n",
    "        if i < n-1:  # No need to deflate on last iteration\n",
    "            v = eigenvector.reshape(-1, 1)\n",
    "            A_remaining = A_remaining - eigenvalue * (v @ v.T)\n",
    "    \n",
    "    eigenvalues = np.array(eigenvalues)\n",
    "    \n",
    "    # Check positive definiteness\n",
    "    is_positive_definite = all(eigenvalues > 0)\n",
    "    \n",
    "    return {\n",
    "        'is_symmetric': is_symmetric,\n",
    "        'eigenvalues': eigenvalues,\n",
    "        'is_positive_definite': is_positive_definite,\n",
    "        'min_eigenvalue': min(eigenvalues)\n",
    "    }\n",
    "\n",
    "# Apply the check to our covariance matrix\n",
    "results = check_matrix_properties(Sigma_df.to_numpy())\n",
    "\n",
    "print(f\"Is Sigma symmetric? {results['is_symmetric']}\")\n",
    "print(f\"\\nEigenvalues: {results['eigenvalues']}\")\n",
    "print(f\"Is Sigma positive definite? {results['is_positive_definite']}\")\n",
    "print(f\"Minimum eigenvalue: {results['min_eigenvalue']}\")"
   ]
  },
  {
   "cell_type": "markdown",
   "id": "371150c9",
   "metadata": {},
   "source": [
    "# Question 3\n"
   ]
  },
  {
   "cell_type": "code",
   "execution_count": 25,
   "id": "4c82992c",
   "metadata": {},
   "outputs": [
    {
     "name": "stdout",
     "output_type": "stream",
     "text": [
      "Eigenvalues:\n",
      "[ 9.  9. 18.]\n",
      "\n",
      "Normalized Eigenvectors (columns):\n",
      "[[-0.74535599  0.          0.66666667]\n",
      " [-0.59628479  0.4472136  -0.66666667]\n",
      " [ 0.2981424   0.89442719  0.33333333]]\n",
      "\n",
      "Spectral Decomposition (A reconstructed):\n",
      "[[13. -4.  2.]\n",
      " [-4. 13. -2.]\n",
      " [ 2. -2. 10.]]\n",
      "\n",
      "Difference between original and reconstructed A (should be close to zero):\n",
      "[[-1.77635684e-15  8.88178420e-16 -4.44089210e-16]\n",
      " [ 1.77635684e-15  1.77635684e-15 -2.22044605e-16]\n",
      " [-4.44089210e-16 -2.22044605e-16  0.00000000e+00]]\n"
     ]
    }
   ],
   "source": [
    "\n",
    "\n",
    "# Define the matrix A\n",
    "A = np.array([[13, -4, 2],\n",
    "              [-4, 13, -2],\n",
    "              [2, -2, 10]])\n",
    "\n",
    "# Compute eigenvalues and eigenvectors\n",
    "eigvals, eigvecs = np.linalg.eigh(A)\n",
    "\n",
    "print(\"Eigenvalues:\")\n",
    "print(eigvals)\n",
    "print(\"\\nNormalized Eigenvectors (columns):\")\n",
    "print(eigvecs)\n",
    "\n",
    "# Spectral decomposition: A = P D P^T\n",
    "P = eigvecs\n",
    "D = np.diag(eigvals)\n",
    "PT = P.T\n",
    "A_reconstructed = P @ D @ PT\n",
    "\n",
    "print(\"\\nSpectral Decomposition (A reconstructed):\")\n",
    "print(A_reconstructed)\n",
    "\n",
    "# Check if A_reconstructed is close to A\n",
    "diff=A - A_reconstructed\n",
    "print(\"\\nDifference between original and reconstructed A (should be close to zero):\")\n",
    "print(diff)\n",
    "\n"
   ]
  },
  {
   "cell_type": "markdown",
   "id": "f6402d29",
   "metadata": {},
   "source": [
    "## Eigenvalues, Eigenvectors, and Spectral Decomposition\n",
    "\n",
    "Given the matrix:\n",
    "\n",
    "$$\n",
    "A = \\begin{bmatrix} 13 & -4 & 2 \\\\ -4 & 13 & -2 \\\\ 2 & -2 & 10 \\end{bmatrix}\n",
    "$$\n",
    "\n",
    "We compute its **eigenvalues** and **normalized eigenvectors**. The spectral decomposition expresses $A$ as:\n",
    "\n",
    "$$\n",
    "A = P D P^T\n",
    "$$\n",
    "\n",
    "where:\n",
    "- $P$ is the matrix whose columns are the normalized eigenvectors of $A$,\n",
    "- $D$ is a diagonal matrix with the eigenvalues of $A$ on the diagonal,\n",
    "- $P^T$ is the transpose of $P$.\n",
    "\n",
    "### Why are eigenvalues and eigenvectors important?\n",
    "\n",
    "- **Simplifying Computations:**\n",
    "  - Diagonalizing a matrix (writing it as $A = P D P^T$) makes many computations much easier. For example, raising $A$ to a power, computing exponentials, or solving systems involving $A$ become straightforward when $A$ is diagonalized.\n",
    "  - In the diagonal form, the action of $A$ on its eigenvectors is simply scaling by the corresponding eigenvalue.\n",
    "\n",
    "- **Geometric Insight:**\n",
    "  - The eigenvectors of $A$ point in the directions where the transformation $A$ acts as a simple scaling (no rotation).\n",
    "  - The eigenvalues tell us how much $A$ stretches or shrinks along each eigenvector direction.\n",
    "\n",
    "- **Applications:**\n",
    "  - In data analysis (e.g., PCA), the eigenvectors of the covariance matrix indicate directions of maximum variance.\n",
    "\n",
    "**In summary:**\n",
    "> Eigenvalues and eigenvectors provide a powerful way to understand and simplify the action of a matrix, making complex computations more tractable and revealing the fundamental structure of linear transformations."
   ]
  },
  {
   "cell_type": "markdown",
   "id": "e2fb7098",
   "metadata": {},
   "source": [
    "# Question 4\n"
   ]
  },
  {
   "cell_type": "markdown",
   "id": "e873bd8f",
   "metadata": {},
   "source": [
    "## Theoretical Derivation of $\\mathbb{E}(AX)$ and $\\mathrm{Cov}(AX)$\n",
    "\n",
    "Let $X$ be a random vector in $\\mathbb{R}^n$ with mean $\\mu_X = \\mathbb{E}[X]$ and covariance matrix $\\Sigma_X = \\mathrm{Cov}(X)$. Let $A$ be a $k \\times n$ matrix.\n",
    "\n",
    "**1. Expectation of a Linear Transformation:**\n",
    "\n",
    "$$\n",
    "\\mathbb{E}[AX] = A\\,\\mathbb{E}[X] = A\\mu_X\n",
    "$$\n",
    "\n",
    "This follows from the linearity of expectation.\n",
    "\n",
    "**2. Covariance of a Linear Transformation:**\n",
    "\n",
    "$$\n",
    "\\mathrm{Cov}(AX) = \\mathbb{E}\\big[(AX - \\mathbb{E}[AX])(AX - \\mathbb{E}[AX])^T\\big]\n",
    "$$\n",
    "\n",
    "Expanding the terms:\n",
    "\n",
    "$$\n",
    "= \\mathbb{E}\\big[A(X - \\mu_X)(X - \\mu_X)^T A^T\\big]\n",
    "$$\n",
    "\n",
    "Since $A$ is constant, it can be factored out:\n",
    "\n",
    "$$\n",
    "= A\\,\\mathbb{E}\\big[(X - \\mu_X)(X - \\mu_X)^T\\big]A^T\n",
    "$$\n",
    "\n",
    "But $\\mathbb{E}\\big[(X - \\mu_X)(X - \\mu_X)^T\\big] = \\Sigma_X$, so:\n",
    "\n",
    "$$\n",
    "\\mathrm{Cov}(AX) = A\\Sigma_X A^T\n",
    "$$\n",
    "\n",
    "Thus, the mean and covariance of the transformed vector $AX$ are given by:\n",
    "\n",
    "- $\\mathbb{E}[AX] = A\\mu_X$\n",
    "- $\\mathrm{Cov}(AX) = A\\Sigma_X A^T$"
   ]
  },
  {
   "cell_type": "code",
   "execution_count": 26,
   "id": "ea72f63f",
   "metadata": {},
   "outputs": [
    {
     "name": "stdout",
     "output_type": "stream",
     "text": [
      "E[AX]: [1 9 3]\n",
      "Cov(AX):\n",
      " [[ 6  0  0]\n",
      " [ 0 18  0]\n",
      " [ 0  0 36]]\n"
     ]
    }
   ],
   "source": [
    "# Compute E[AX] and Cov(AX) using the formulas from the derivation\n",
    "\n",
    "\n",
    "\n",
    "#(3x4)\n",
    "A = np.array([[1, -1,0,0],\n",
    "              [1, 1,-2,0],\n",
    "              [1,1,1,3]])\n",
    "\n",
    "# Compute mean vector mu_X (4x1)\n",
    "mu_X = np.array([3,2,-2,0])\n",
    "\n",
    "# Compute covariance matrix Sigma_X\n",
    "Sigma_X = np.array([[3,0,0,0],\n",
    "                   [0,3,0,0],\n",
    "                   [0,0,3,0],\n",
    "                   [0,0,0,3]]\n",
    "                   )\n",
    "\n",
    "# Compute E[AX]\n",
    "E_AX = A @ mu_X\n",
    "print(\"E[AX]:\", E_AX)\n",
    "\n",
    "# Compute Cov(AX)\n",
    "Cov_AX = A @ Sigma_X @ A.T\n",
    "print(\"Cov(AX):\\n\", Cov_AX)"
   ]
  },
  {
   "cell_type": "markdown",
   "id": "185d0316",
   "metadata": {},
   "source": [
    "## The off-diagonals are all 0, indicating that all variables are uncorrelated since they have a covariance = 0.\n"
   ]
  },
  {
   "cell_type": "markdown",
   "id": "ee62c438",
   "metadata": {},
   "source": [
    "## Insight questions\n"
   ]
  },
  {
   "cell_type": "markdown",
   "id": "efca4b59",
   "metadata": {},
   "source": [
    "## Linear Combinations in Factor Analysis\n",
    "\n",
    "In factor analysis, linear combinations of the original variables are used to create new variables called factors. These factors are constructed to capture most of the variance in the data using fewer variables than the original set. This process reduces the dimensionality of the data, making it easier to analyze and interpret.\n",
    "\n",
    "By representing the data with a smaller number of factors, we achieve computational efficiency and simplify complex datasets. The main goal is to explain the observed correlations among variables with as few factors as possible, thus reducing redundancy and focusing on the underlying structure of the data.\n",
    "\n",
    "Additionally, factor analysis helps to isolate the most important information in the dataset by identifying the key underlying factors that drive the observed patterns. This allows analysts to focus on the most significant sources of variation and ignore less relevant details."
   ]
  },
  {
   "cell_type": "markdown",
   "id": "a09d7188",
   "metadata": {},
   "source": [
    "### What does it imply if a transformed variable has zero variance?\n",
    "\n",
    "\n",
    "**Implications:**\n",
    "- The variable contains no information about differences between observations.\n",
    "\n",
    "- In practical terms, such a variable cannot help distinguish or explain variation in the data and is often uninformative.\n",
    "\n",
    "**Example:**\n",
    "If $Y = a^T X$ is a linear combination of variables $X$ and $\\mathrm{Var}(Y) = 0$, then $Y$ is constant for all samples of $X$."
   ]
  },
  {
   "cell_type": "markdown",
   "id": "e85c482b",
   "metadata": {},
   "source": [
    "# Question 7\n"
   ]
  },
  {
   "cell_type": "code",
   "execution_count": 27,
   "id": "4bb48e6b",
   "metadata": {},
   "outputs": [
    {
     "name": "stdout",
     "output_type": "stream",
     "text": [
      "          X1         X2         X3         X4         X5         X6\n",
      "0  19.593297  21.297179  19.545141  17.557679  18.162624  21.882838\n",
      "1  25.425270  19.990976  17.546186  18.627066  18.638843  21.298481\n",
      "2  19.741768  18.528718  16.663363  17.603363  20.253647  18.824446\n",
      "3  20.882660  21.337610  21.494615  22.246616  18.317547  20.668432\n",
      "4  21.333000  21.066782  20.648673  24.193967  21.454092  18.315792\n",
      "Covariance Matrix:\n",
      "           X1        X2        X3        X4        X5        X6\n",
      "X1  4.000000  0.105077  0.100637 -0.314602  0.137234  1.352729\n",
      "X2  0.105077  4.000000 -0.472245  0.056653  0.145265  0.837700\n",
      "X3  0.100637 -0.472245  4.000000 -0.207023 -0.486243  2.504540\n",
      "X4 -0.314602  0.056653 -0.207023  4.000000  0.376740 -2.580168\n",
      "X5  0.137234  0.145265 -0.486243  0.376740  4.000000 -1.535792\n",
      "X6  1.352729  0.837700  2.504540 -2.580168 -1.535792  4.000000\n"
     ]
    }
   ],
   "source": [
    "PCADataset=pd.read_csv(\"PCADataset1.csv\")\n",
    "print(PCADataset.head())\n",
    "\n",
    "#get the covariance matrix\n",
    "cov_matrix=PCADataset.cov()\n",
    "print(\"Covariance Matrix:\\n\", cov_matrix)"
   ]
  },
  {
   "cell_type": "markdown",
   "id": "65ca2edc",
   "metadata": {},
   "source": [
    "### All variables have a constant variance of 4"
   ]
  },
  {
   "cell_type": "markdown",
   "id": "4e60d22f",
   "metadata": {},
   "source": [
    "## Covariance vs. Correlation Matrix in PCA\n",
    "\n",
    "When performing Principal Component Analysis (PCA), you can use either the **covariance matrix** ($S$) or the **correlation matrix** ($R$) to extract principal components. The choice depends on the scale and variance of your variables:\n",
    "\n",
    "- **Covariance matrix ($S$):**\n",
    "  - Use when all variables are measured on similar scales and have similar variances.\n",
    "  - Captures the raw relationships between variables.\n",
    "\n",
    "- **Correlation matrix ($R$):**\n",
    "  - Use when variables have very different scales or units, or widely different variances.\n",
    "  - Standardizes variables to have mean 0 and variance 1, so all variables contribute equally.\n",
    "\n",
    "### Why does this matter?\n",
    "- **PCA on standardized variables $Z$** is equivalent to the eigen-decomposition of the correlation matrix $R$:\n",
    "  $$\n",
    "  \\mathrm{Cov}(Z) = (V^{1/2})^{-1} \\Sigma (V^{1/2})^{-1} = R\n",
    "  $$\n",
    "  where $V$ is the diagonal matrix of variances.\n",
    "- If all variables have the **same variance** ($\\sigma^2$), then:\n",
    "  $$\n",
    "  R = \\frac{1}{\\sigma^2} S\n",
    "  $$\n",
    "  The eigenvectors (principal component directions) of $S$ and $R$ are identical; only the eigenvalues are rescaled.\n",
    "\n",
    "### In our data\n",
    "- Every variable has variance $\\approx 4$ (equal scale).\n",
    "- Therefore, using the covariance matrix $S$ is fully justified and will yield the same principal component directions as the correlation matrix $R$.\n"
   ]
  },
  {
   "cell_type": "code",
   "execution_count": 35,
   "id": "563dedaf",
   "metadata": {},
   "outputs": [
    {
     "name": "stdout",
     "output_type": "stream",
     "text": [
      "Principal Components:\n",
      " [[ 2.73702243e+00  8.00949838e-01 -2.15499390e+00 -1.45534835e+00\n",
      "  -2.14380845e-01 -1.15241391e-02]\n",
      " [ 2.14620480e+00  3.34674063e+00  2.19473064e+00 -1.70358003e+00\n",
      "  -4.16539273e+00  4.68583618e-02]\n",
      " [-1.39475868e+00  6.75907885e-01  4.34758899e-02 -4.24239301e+00\n",
      "  -3.90680983e-01 -3.09777592e-03]\n",
      " ...\n",
      " [-9.00681133e-01 -9.59262752e-01  1.31467434e+00 -1.44235805e-01\n",
      "   1.53639010e+00 -1.13211016e-03]\n",
      " [ 1.71536524e+00  9.78301999e-02  2.37474702e+00 -1.74589954e+00\n",
      "   3.80861768e+00  8.65018181e-03]\n",
      " [-3.88421283e+00 -4.75544965e-01  3.08175280e+00 -2.46382872e+00\n",
      "  -2.65150216e+00 -2.11327299e-02]]\n"
     ]
    },
    {
     "data": {
      "image/png": "[encoded data removed]",
      "text/plain": [
       "<Figure size 800x600 with 1 Axes>"
      ]
     },
     "metadata": {},
     "output_type": "display_data"
    }
   ],
   "source": [
    "# Perform PCA\n",
    "\n",
    "data=PCADataset\n",
    "p = 6\n",
    "pca = PCA(n_components=p)\n",
    "principal_components = pca.fit_transform(data)\n",
    "\n",
    "print(\"Principal Components:\\n\", principal_components)\n",
    "\n",
    "#plot the principal components\n",
    "plt.figure(figsize=(8,6))\n",
    "plt.scatter(principal_components[:, 0], principal_components[:, 1], alpha=0.7)\n",
    "plt.xlabel('Principal Component 1')\n",
    "plt.ylabel('Principal Component 2')\n",
    "plt.title('PCA - First Two Principal Components')\n",
    "plt.grid(True)\n",
    "plt.show()\n"
   ]
  }
 ],
 "metadata": {
  "kernelspec": {
   "display_name": "Python 3",
   "language": "python",
   "name": "python3"
  },
  "language_info": {
   "codemirror_mode": {
    "name": "ipython",
    "version": 3
   },
   "file_extension": ".py",
   "mimetype": "text/x-python",
   "name": "python",
   "nbconvert_exporter": "python",
   "pygments_lexer": "ipython3",
   "version": "3.13.3"
  }
 },
 "nbformat": 4,
 "nbformat_minor": 5
}
