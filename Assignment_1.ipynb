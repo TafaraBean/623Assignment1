{
 "cells": [
  {
   "cell_type": "code",
   "execution_count": 78,
   "id": "bc78e85c",
   "metadata": {},
   "outputs": [],
   "source": [
    "import numpy as np\n",
    "import pandas as pd\n",
    "import seaborn as sns\n"
   ]
  },
  {
   "cell_type": "markdown",
   "id": "ac67694b",
   "metadata": {},
   "source": [
    "# Question 1"
   ]
  },
  {
   "cell_type": "code",
   "execution_count": 79,
   "id": "6d3d75c7",
   "metadata": {},
   "outputs": [
    {
     "name": "stdout",
     "output_type": "stream",
     "text": [
      "    Wind  Solar Rad  CO  NO  NO2  O3  HC\n",
      "0      8         98   7   2   12   8   2\n",
      "1      7        107   4   3    9   5   3\n",
      "2      7        103   4   3    5   6   3\n",
      "3     10         88   5   2    8  15   4\n",
      "4      6         91   4   2    8  10   3\n",
      "5      8         90   5   2   12  12   4\n",
      "6      9         84   7   4   12  15   5\n",
      "7      5         72   6   4   21  14   4\n",
      "8      7         82   5   1   11  11   3\n",
      "9      8         64   5   2   13   9   4\n",
      "10     6         71   5   4   10   3   3\n",
      "11     6         91   4   2   12   7   3\n",
      "12     7         72   7   4   18  10   3\n",
      "13    10         70   4   2   11   7   3\n",
      "14    10         72   4   1    8  10   3\n",
      "15     9         77   4   1    9  10   3\n",
      "16     8         76   4   1    7   7   3\n",
      "17     8         71   5   3   16   4   4\n",
      "18     9         67   4   2   13   2   3\n",
      "19     9         69   3   3    9   5   3\n",
      "20    10         62   5   3   14   4   4\n",
      "21     9         88   4   2    7   6   3\n",
      "22     8         80   4   2   13  11   4\n",
      "23     5         30   3   3    5   2   3\n",
      "24     6         83   5   1   10  23   4\n",
      "25     8         84   3   2    7   6   3\n",
      "26     6         78   4   2   11  11   3\n",
      "27     8         79   2   1    7  10   3\n",
      "28     6         62   4   3    9   8   3\n",
      "29    10         37   3   1    7   2   3\n",
      "30     8         71   4   1   10   7   3\n",
      "31     7         52   4   1   12   8   4\n",
      "32     5         48   6   5    8   4   3\n",
      "33     6         75   4   1   10  24   3\n",
      "34    10         35   4   1    6   9   2\n",
      "35     8         85   4   1    9  10   2\n",
      "36     5         86   3   1    6  12   2\n",
      "37     5         86   7   2   13  18   2\n",
      "38     7         79   7   4    9  25   3\n",
      "39     7         79   5   2    8   6   2\n",
      "40     6         68   6   2   11  14   3\n",
      "41     8         40   4   3    6   5   2\n"
     ]
    }
   ],
   "source": [
    "airpol_df = pd.read_csv('airpol.csv')\n",
    "print(airpol_df)"
   ]
  },
  {
   "cell_type": "markdown",
   "id": "cba32b4b",
   "metadata": {},
   "source": [
    "(Used AI to generate the markdown formula below)"
   ]
  },
  {
   "cell_type": "markdown",
   "id": "ab19e550",
   "metadata": {},
   "source": [
    "### Covariance and variance formula "
   ]
  },
  {
   "cell_type": "markdown",
   "id": "5898bf87",
   "metadata": {
    "vscode": {
     "languageId": "tex"
    }
   },
   "source": [
    "# Sample Covariance and Variance Formulas\n",
    "\n",
    "**Sample Covariance between X and Y:**\n",
    "\n",
    "$$\n",
    "\\text{Cov}(X,Y) = \\frac{\\sum_{i=1}^{n} (x_i - \\bar{x})(y_i - \\bar{y})}{n-1}\n",
    "$$\n",
    "\n",
    "**Sample Variance of X:**\n",
    "\n",
    "$$\n",
    "\\text{Var}(X) = \\frac{\\sum_{i=1}^{n} (x_i - \\bar{x})^2}{n-1}\n",
    "$$"
   ]
  },
  {
   "cell_type": "code",
   "execution_count": 80,
   "id": "db686df6",
   "metadata": {},
   "outputs": [
    {
     "name": "stdout",
     "output_type": "stream",
     "text": [
      "Covariance: -2.7804878048780486\n",
      "variance for wind: 2.5\n",
      "variance for solar rad: 300.51567944250877\n",
      "Covariance-Variance Matrix:\n",
      "[[  2.5         -2.7804878 ]\n",
      " [ -2.7804878  300.51567944]]\n",
      "Correlation: -0.10144191102756318\n",
      "Correlation Matrix:\n",
      "[[ 1.         -0.10144191]\n",
      " [-0.10144191  1.        ]]\n"
     ]
    }
   ],
   "source": [
    "# extract the two variables\n",
    "wind = airpol_df['Wind']\n",
    "solar_rad = airpol_df['Solar Rad']\n",
    "\n",
    "# calculate the means\n",
    "mean_wind = wind.mean()\n",
    "mean_solar = solar_rad.mean()\n",
    "\n",
    "# compute the covariance numerator by summing over the product of deviations\n",
    "numerator = ((wind - mean_wind) * (solar_rad - mean_solar)).sum()\n",
    "\n",
    "# for sample covariance, divide by (n - 1)\n",
    "n = len(wind)\n",
    "covariance = numerator / (n - 1)\n",
    "\n",
    "print(\"Covariance:\", covariance)\n",
    "\n",
    "# Compute sample variances using first principles\n",
    "var_wind = ((wind - mean_wind) ** 2).sum() / (n - 1)\n",
    "var_solar = ((solar_rad - mean_solar) ** 2).sum() / (n - 1)\n",
    "\n",
    "print(\"variance for wind:\", var_wind)\n",
    "print(\"variance for solar rad:\", var_solar)\n",
    "\n",
    "cov_var_matrix = np.array([[var_wind, covariance],\n",
    "               [covariance, var_solar]])\n",
    "print(\"Covariance-Variance Matrix:\")\n",
    "print(cov_var_matrix)\n",
    "\n",
    "# now get the correlation between the 2 variables using first principles\n",
    "std_wind = np.sqrt(var_wind) # standard deviation of wind\n",
    "std_solar = np.sqrt(var_solar) # standard deviation of solar rad         \n",
    "correlation = covariance / (std_wind * std_solar)\n",
    "print(\"Correlation:\", correlation)\n",
    "\n",
    "\n",
    "#compute the correlation matrix \n",
    "correlation_matrix = np.array([[1, correlation],\n",
    "                               [correlation, 1]])\n",
    "\n",
    "print(\"Correlation Matrix:\")\n",
    "print(correlation_matrix)\n"
   ]
  },
  {
   "cell_type": "code",
   "execution_count": 81,
   "id": "295bdafa",
   "metadata": {},
   "outputs": [],
   "source": [
    "#pip install matplotlib"
   ]
  },
  {
   "cell_type": "markdown",
   "id": "51c9e205",
   "metadata": {},
   "source": [
    "## I am lead to believe that in this question we are more interested in the relationship between the variables and we are expressing this relationship in terms of vectors, hence we will employ the use of the correlation.\n",
    "\n",
    "We start by centering the variables:\n",
    "\n",
    "$$\n",
    "x = \\text{wind} - \\text{mean\\_wind} \\quad \\text{and} \\quad y = \\text{solar\\_rad} - \\text{mean\\_solar}\n",
    "$$\n",
    "\n",
    "The dot product of the centered variables gives the covariance (up to the normalization factor):\n",
    "\n",
    "$$\n",
    "\\text{covariance} = \\frac{x^T y}{n-1}\n",
    "$$\n",
    "\n",
    "Thus, the correlation can be written as:\n",
    "\n",
    "$$\n",
    "\\text{correlation} = \\frac{x^T y}{(n-1)\\,\\text{std\\_wind}\\,\\text{std\\_solar}}\n",
    "$$\n",
    "\n",
    "Alternatively, if we form the matrix \\( A \\) with the centered variables as columns,\n",
    "\n",
    "$$\n",
    "A = \\begin{bmatrix} x & y \\end{bmatrix},\n",
    "$$\n",
    "\n",
    "then the covariance matrix is\n",
    "\n",
    "$$\n",
    "\\text{Cov} = \\frac{A^T A}{n-1},\n",
    "$$\n",
    "\n",
    "and the off-diagonal element of $\\text{Cov}$ is exactly $\\frac{x^T y}{n-1}$. Therefore, the correlation is\n",
    "\n",
    "$$\n",
    "\\text{correlation} = \\frac{\\text{Cov}[0,1]}{\\text{std\\_wind}\\,\\text{std\\_solar}}.\n",
    "$$\n",
    "\n",
    "## Using Correlation to Find the Angle Between Vectors\n",
    "\n",
    "In our analysis, remember that the correlation between the centered variables (wind and solar radiation) is defined as the cosine of the angle between their corresponding vectors:\n",
    "\n",
    "$$\n",
    "\\cos(\\theta) = \\text{correlation}\n",
    "$$\n",
    "\n",
    "This means if we know the correlation value, we can recover the angle between the two vectors by computing the arccosine. For example, in Python using NumPy, you can compute the angle (in radians) as:\n",
    "\n",
    "$$\n",
    "\\theta = \\arccos(\\text{correlation})\n",
    "$$\n",
    "\n",
    "To convert this angle to degrees, use:\n",
    "\n",
    "$$\n",
    "\\theta_{degrees} = \\theta \\times \\frac{180}{\\pi}\n",
    "$$\n",
    "\n",
    "Thus, the correlation not only tells us about the strength of the linear relationship but also directly informs us of the geometric angle between the centered variable vectors."
   ]
  },
  {
   "cell_type": "markdown",
   "id": "8e285074",
   "metadata": {},
   "source": [
    "(explanation from AI on why we use the notation of Cov(0,1))\n",
    "\n",
    "\n",
    "The notation **[0,1]** in the covariance matrix is used to refer to the position of the element representing the covariance between the two variables. In a 2x2 covariance matrix, the indices are zero-based, meaning:\n",
    "\n",
    "- **0** represents the first variable (e.g., wind).\n",
    "- **1** represents the second variable (e.g., solar radiation).\n",
    "\n",
    "Thus, **Cov[0,1]** is the element in the first row and second column of the matrix, which holds the covariance between these two variables. This convention is common in programming and mathematical notation when dealing with arrays or matrices."
   ]
  },
  {
   "cell_type": "code",
   "execution_count": 82,
   "id": "30925741",
   "metadata": {},
   "outputs": [
    {
     "data": {
      "image/png": "[encoded data removed]",
      "text/plain": [
       "<Figure size 600x600 with 1 Axes>"
      ]
     },
     "metadata": {},
     "output_type": "display_data"
    },
    {
     "name": "stdout",
     "output_type": "stream",
     "text": [
      "Correlation: -0.10144191102756318\n",
      "Angle (radians): 1.6724130291225974\n",
      "Angle (degrees): 95.82220817141446\n"
     ]
    }
   ],
   "source": [
    "# Plotting an arbitrary vector and its rotated counterpart using correlation-derived angle\n",
    "import numpy as np\n",
    "import matplotlib.pyplot as plt\n",
    "\n",
    "# Use existing correlation if defined; otherwise, use an arbitrary value\n",
    "try:\n",
    "    corr = correlation\n",
    "except NameError:\n",
    "    corr = 0.5  # default arbitrary correlation value\n",
    "\n",
    "# Calculate angle (in radians) from the correlation (assuming correlation = cos(theta))\n",
    "theta = np.arccos(corr)\n",
    "theta_deg = np.degrees(theta)\n",
    "\n",
    "# Define the arbitrary vector (0,1)\n",
    "vec1 = np.array([0, 1])\n",
    "\n",
    "# Compute the rotated vector by applying a rotation matrix to vec1\n",
    "rotation_matrix = np.array([[np.cos(theta), -np.sin(theta)],\n",
    "                              [np.sin(theta),  np.cos(theta)]])\n",
    "vec2 = rotation_matrix.dot(vec1)\n",
    "\n",
    "# Plot the vectors starting from the origin\n",
    "plt.figure(figsize=(6,6))\n",
    "plt.quiver(0, 0, vec1[0], vec1[1], angles='xy', scale_units='xy', scale=1, color='blue', label='Vector (0,1)')\n",
    "plt.quiver(0, 0, vec2[0], vec2[1], angles='xy', scale_units='xy', scale=1, color='red', label='Rotated Vector')\n",
    "plt.xlim(-1.5, 1.5)\n",
    "plt.ylim(-1.5, 1.5)\n",
    "plt.axhline(0, color='grey', lw=0.5)\n",
    "plt.axvline(0, color='grey', lw=0.5)\n",
    "plt.legend()\n",
    "plt.title(f'Angle between vectors: {theta_deg:.2f}°')\n",
    "plt.grid(True)\n",
    "plt.show()\n",
    "\n",
    "print('Correlation:', corr)\n",
    "print('Angle (radians):', theta)\n",
    "print('Angle (degrees):', theta_deg)"
   ]
  },
  {
   "cell_type": "markdown",
   "id": "c9edf4c2",
   "metadata": {},
   "source": []
  },
  {
   "cell_type": "markdown",
   "id": "182cfa18",
   "metadata": {},
   "source": [
    "## Insight Questions\n",
    "\n",
    "When analyzing data, centering the variables (i.e., subtracting the mean) lets us focus on the essential relationship between them. Consider two centered variables, \\( x \\) and \\( y \\). Their covariance is given by\n",
    "\n",
    "$$\n",
    "\\text{Cov}(x, y) = \\frac{1}{n-1} \\sum_{i=1}^{n} x_i\\,y_i = \\frac{x^T y}{n-1}.\n",
    "$$\n",
    "\n",
    "We can summarize the variances and covariance in matrix form as follows:\n",
    "\n",
    "$$\n",
    "\\mathbf{Cov} =\n",
    "\\begin{bmatrix}\n",
    "\\text{Var}(x) & \\text{Cov}(x, y) \\\\\\\\\n",
    "\\text{Cov}(x, y) & \\text{Var}(y)\n",
    "\\end{bmatrix},\n",
    "$$\n",
    "\n",
    "where the variances are defined by\n",
    "\n",
    "$$\n",
    "\\text{Var}(x) = \\frac{\\sum_{i=1}^{n} x_i^2}{n-1} \\quad \\text{and} \\quad \\text{Var}(y) = \\frac{\\sum_{i=1}^{n} y_i^2}{n-1}.\n",
    "$$\n",
    "\n",
    "The correlation between \\( x \\) and \\( y \\) is obtained by normalizing the covariance with the corresponding standard deviations:\n",
    "\n",
    "$$\n",
    "\\text{Correlation} = \\frac{\\text{Cov}(x, y)}{\\sigma_x\\, \\sigma_y},\n",
    "$$\n",
    "\n",
    "which is equivalent to expressing the correlation as the cosine of the angle between the vectors:\n",
    "\n",
    "$$\n",
    "\\cos(\\theta) = \\frac{\\text{Cov}(x, y)}{\\sigma_x\\, \\sigma_y}.\n",
    "$$\n",
    "\n",
    "Thus, if the covariance is zero\n",
    "\n",
    "$$\n",
    "\\text{Cov}(x, y) = 0,\n",
    "$$\n",
    "\n",
    "then\n",
    "\n",
    "$$\n",
    "\\text{Correlation} = 0 \\quad \\text{and} \\quad \\cos(\\theta) = 0,\n",
    "$$\n",
    "\n",
    "indicating that the centered variables (or vectors) are orthogonal. Orthogonality in this context implies that there is no linear relationship between the variables, often taken as a sign of independence."
   ]
  },
  {
   "cell_type": "markdown",
   "id": "d61aa89f",
   "metadata": {},
   "source": []
  }
 ],
 "metadata": {
  "kernelspec": {
   "display_name": "Python 3",
   "language": "python",
   "name": "python3"
  },
  "language_info": {
   "codemirror_mode": {
    "name": "ipython",
    "version": 3
   },
   "file_extension": ".py",
   "mimetype": "text/x-python",
   "name": "python",
   "nbconvert_exporter": "python",
   "pygments_lexer": "ipython3",
   "version": "3.11.4"
  }
 },
 "nbformat": 4,
 "nbformat_minor": 5
}
