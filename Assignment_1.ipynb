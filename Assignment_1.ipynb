{
 "cells": [
  {
   "cell_type": "code",
   "execution_count": 1,
   "id": "bc78e85c",
   "metadata": {},
   "outputs": [],
   "source": [
    "import numpy as np\n",
    "import pandas as pd"
   ]
  },
  {
   "cell_type": "markdown",
   "id": "ac67694b",
   "metadata": {},
   "source": [
    "# Question 1"
   ]
  },
  {
   "cell_type": "code",
   "execution_count": 2,
   "id": "6d3d75c7",
   "metadata": {},
   "outputs": [
    {
     "name": "stdout",
     "output_type": "stream",
     "text": [
      "    Wind  Solar Rad  CO  NO  NO2  O3  HC\n",
      "0      8         98   7   2   12   8   2\n",
      "1      7        107   4   3    9   5   3\n",
      "2      7        103   4   3    5   6   3\n",
      "3     10         88   5   2    8  15   4\n",
      "4      6         91   4   2    8  10   3\n",
      "5      8         90   5   2   12  12   4\n",
      "6      9         84   7   4   12  15   5\n",
      "7      5         72   6   4   21  14   4\n",
      "8      7         82   5   1   11  11   3\n",
      "9      8         64   5   2   13   9   4\n",
      "10     6         71   5   4   10   3   3\n",
      "11     6         91   4   2   12   7   3\n",
      "12     7         72   7   4   18  10   3\n",
      "13    10         70   4   2   11   7   3\n",
      "14    10         72   4   1    8  10   3\n",
      "15     9         77   4   1    9  10   3\n",
      "16     8         76   4   1    7   7   3\n",
      "17     8         71   5   3   16   4   4\n",
      "18     9         67   4   2   13   2   3\n",
      "19     9         69   3   3    9   5   3\n",
      "20    10         62   5   3   14   4   4\n",
      "21     9         88   4   2    7   6   3\n",
      "22     8         80   4   2   13  11   4\n",
      "23     5         30   3   3    5   2   3\n",
      "24     6         83   5   1   10  23   4\n",
      "25     8         84   3   2    7   6   3\n",
      "26     6         78   4   2   11  11   3\n",
      "27     8         79   2   1    7  10   3\n",
      "28     6         62   4   3    9   8   3\n",
      "29    10         37   3   1    7   2   3\n",
      "30     8         71   4   1   10   7   3\n",
      "31     7         52   4   1   12   8   4\n",
      "32     5         48   6   5    8   4   3\n",
      "33     6         75   4   1   10  24   3\n",
      "34    10         35   4   1    6   9   2\n",
      "35     8         85   4   1    9  10   2\n",
      "36     5         86   3   1    6  12   2\n",
      "37     5         86   7   2   13  18   2\n",
      "38     7         79   7   4    9  25   3\n",
      "39     7         79   5   2    8   6   2\n",
      "40     6         68   6   2   11  14   3\n",
      "41     8         40   4   3    6   5   2\n"
     ]
    }
   ],
   "source": [
    "airpol_df = pd.read_csv('airpol.csv')\n",
    "print(airpol_df)"
   ]
  },
  {
   "cell_type": "markdown",
   "id": "cba32b4b",
   "metadata": {},
   "source": [
    "(Used AI to generate the markdown formula below)"
   ]
  },
  {
   "cell_type": "markdown",
   "id": "ab19e550",
   "metadata": {},
   "source": [
    "### Covariance and variance formula "
   ]
  },
  {
   "cell_type": "markdown",
   "id": "5898bf87",
   "metadata": {
    "vscode": {
     "languageId": "tex"
    }
   },
   "source": [
    "# Sample Covariance and Variance Formulas\n",
    "\n",
    "**Sample Covariance between X and Y:**\n",
    "\n",
    "$$\n",
    "\\text{Cov}(X,Y) = \\frac{\\sum_{i=1}^{n} (x_i - \\bar{x})(y_i - \\bar{y})}{n-1}\n",
    "$$\n",
    "\n",
    "**Sample Variance of X:**\n",
    "\n",
    "$$\n",
    "\\text{Var}(X) = \\frac{\\sum_{i=1}^{n} (x_i - \\bar{x})^2}{n-1}\n",
    "$$"
   ]
  },
  {
   "cell_type": "code",
   "execution_count": null,
   "id": "db686df6",
   "metadata": {},
   "outputs": [
    {
     "name": "stdout",
     "output_type": "stream",
     "text": [
      "-2.7804878048780486\n",
      "Manual variance for wind: 2.5\n",
      "Manual variance for solar rad: 300.51567944250877\n",
      "Covariance-Variance Matrix:\n",
      "[[  2.5         -2.7804878 ]\n",
      " [ -2.7804878  300.51567944]]\n",
      "Correlation: -0.10144191102756318\n"
     ]
    }
   ],
   "source": [
    "# extract the two variables\n",
    "wind = airpol_df['Wind']\n",
    "solar_rad = airpol_df['Solar Rad']\n",
    "\n",
    "# calculate the means\n",
    "mean_wind = wind.mean()\n",
    "mean_solar = solar_rad.mean()\n",
    "\n",
    "# compute the covariance numerator by summing over the product of deviations\n",
    "numerator = ((wind - mean_wind) * (solar_rad - mean_solar)).sum()\n",
    "\n",
    "# for sample covariance, divide by (n - 1)\n",
    "n = len(wind)\n",
    "covariance = numerator / (n - 1)\n",
    "\n",
    "print(\"Covariance:\", covariance)\n",
    "\n",
    "# Compute sample variances using first principles\n",
    "var_wind_manual = ((wind - mean_wind) ** 2).sum() / (n - 1)\n",
    "var_solar_manual = ((solar_rad - mean_solar) ** 2).sum() / (n - 1)\n",
    "\n",
    "print(\"Manual variance for wind:\", var_wind_manual)\n",
    "print(\"Manual variance for solar rad:\", var_solar_manual)\n",
    "\n",
    "cov_var_matrix = np.array([[var_wind_manual, covariance],\n",
    "               [covariance, var_solar_manual]])\n",
    "print(\"Covariance-Variance Matrix:\")\n",
    "print(cov_var_matrix)\n",
    "\n",
    "# now get the correlation between the 2 variables using first principles\n",
    "std_wind = np.sqrt(var_wind_manual) # standard deviation of wind\n",
    "std_solar = np.sqrt(var_solar_manual) # standard deviation of solar rad         \n",
    "correlation = covariance / (std_wind * std_solar)\n",
    "print(\"Correlation:\", correlation)\n"
   ]
  }
 ],
 "metadata": {
  "kernelspec": {
   "display_name": "Python 3",
   "language": "python",
   "name": "python3"
  },
  "language_info": {
   "codemirror_mode": {
    "name": "ipython",
    "version": 3
   },
   "file_extension": ".py",
   "mimetype": "text/x-python",
   "name": "python",
   "nbconvert_exporter": "python",
   "pygments_lexer": "ipython3",
   "version": "3.11.4"
  }
 },
 "nbformat": 4,
 "nbformat_minor": 5
}
